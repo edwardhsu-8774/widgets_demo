{
 "cells": [
  {
   "cell_type": "code",
   "execution_count": 1,
   "id": "d30d267d",
   "metadata": {},
   "outputs": [
    {
     "data": {
      "text/plain": [
       "'Hsu'"
      ]
     },
     "execution_count": 1,
     "metadata": {},
     "output_type": "execute_result"
    }
   ],
   "source": [
    "lName=\"Hsu\"\n",
    "lName"
   ]
  },
  {
   "cell_type": "code",
   "execution_count": 2,
   "id": "7225dfdb",
   "metadata": {},
   "outputs": [
    {
     "data": {
      "text/plain": [
       "'Edward'"
      ]
     },
     "execution_count": 2,
     "metadata": {},
     "output_type": "execute_result"
    }
   ],
   "source": [
    "fName=\"Edward\"\n",
    "fName"
   ]
  },
  {
   "cell_type": "markdown",
   "id": "d8f59326",
   "metadata": {},
   "source": [
    "# Widget List "
   ]
  },
  {
   "cell_type": "markdown",
   "id": "7e9cfe17",
   "metadata": {},
   "source": [
    "widget are UI native to Python. Improves the look-and-feel.\n",
    "https://ipywidgets.readthedocs.io/en/latest/examples/Widget%20List.html"
   ]
  },
  {
   "cell_type": "code",
   "execution_count": 20,
   "id": "6770fb33",
   "metadata": {},
   "outputs": [],
   "source": [
    "import ipywidgets as widgets\n"
   ]
  },
  {
   "cell_type": "markdown",
   "id": "53c5798a",
   "metadata": {},
   "source": [
    "# Slider"
   ]
  },
  {
   "cell_type": "code",
   "execution_count": 21,
   "id": "5f058b73",
   "metadata": {},
   "outputs": [
    {
     "data": {
      "application/vnd.jupyter.widget-view+json": {
       "model_id": "38bccc5a6c504639a360813f1b3699c4",
       "version_major": 2,
       "version_minor": 0
      },
      "text/plain": [
       "IntSlider(value=0, description='Slider Value', step=10)"
      ]
     },
     "metadata": {},
     "output_type": "display_data"
    }
   ],
   "source": [
    "sliderval = widgets.IntSlider (\n",
    "value = 0,\n",
    "    min = 0,\n",
    "    max = 100,\n",
    "    step = 10,\n",
    "    description = 'Slider Value',\n",
    "    disabled = False,\n",
    "    continous_update = False,\n",
    "    orientation = 'horizontal',\n",
    "    readout = True,\n",
    "    readout_format = 'd'\n",
    ")\n",
    "sliderval"
   ]
  },
  {
   "cell_type": "code",
   "execution_count": 22,
   "id": "74e1cfd6",
   "metadata": {},
   "outputs": [
    {
     "name": "stdout",
     "output_type": "stream",
     "text": [
      "240\n"
     ]
    }
   ],
   "source": [
    "val = sliderval.value\n",
    "print(val * 4)"
   ]
  },
  {
   "cell_type": "markdown",
   "id": "39b1b412",
   "metadata": {},
   "source": [
    "# Checkbox"
   ]
  },
  {
   "cell_type": "code",
   "execution_count": 25,
   "id": "19417b0a",
   "metadata": {},
   "outputs": [
    {
     "data": {
      "application/vnd.jupyter.widget-view+json": {
       "model_id": "67dcbca118fc44e5b8646d10ed348ebd",
       "version_major": 2,
       "version_minor": 0
      },
      "text/plain": [
       "Checkbox(value=False, description='First-Aids_kit')"
      ]
     },
     "metadata": {},
     "output_type": "display_data"
    }
   ],
   "source": [
    "first_aids_kit = widgets.Checkbox(\n",
    "    value=False,\n",
    "    description='First-Aids_kit',\n",
    "    disabled=False,\n",
    "    indent=True\n",
    ")\n",
    "first_aids_kit\n",
    "\n"
   ]
  },
  {
   "cell_type": "code",
   "execution_count": 26,
   "id": "99f7184f",
   "metadata": {},
   "outputs": [
    {
     "name": "stdout",
     "output_type": "stream",
     "text": [
      "False\n"
     ]
    }
   ],
   "source": [
    "medical_equipment = first_aids_kit.value\n",
    "print (medical_equipment)"
   ]
  },
  {
   "cell_type": "code",
   "execution_count": null,
   "id": "b1cb6d73",
   "metadata": {},
   "outputs": [],
   "source": []
  }
 ],
 "metadata": {
  "kernelspec": {
   "display_name": "Python 3",
   "language": "python",
   "name": "python3"
  },
  "language_info": {
   "codemirror_mode": {
    "name": "ipython",
    "version": 3
   },
   "file_extension": ".py",
   "mimetype": "text/x-python",
   "name": "python",
   "nbconvert_exporter": "python",
   "pygments_lexer": "ipython3",
   "version": "3.8.8"
  }
 },
 "nbformat": 4,
 "nbformat_minor": 5
}
